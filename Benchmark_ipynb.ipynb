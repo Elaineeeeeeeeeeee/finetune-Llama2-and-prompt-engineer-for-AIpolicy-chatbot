{
  "cells": [
    {
      "cell_type": "code",
      "execution_count": null,
      "metadata": {
        "id": "Szuh6C7PS__2",
        "colab": {
          "base_uri": "https://localhost:8080/"
        },
        "outputId": "ac255fd4-ff78-44df-8a09-325e32617316"
      },
      "outputs": [
        {
          "output_type": "stream",
          "name": "stdout",
          "text": [
            "\u001b[33mWARNING: Ignoring invalid distribution -ransformers (/usr/local/lib/python3.10/dist-packages)\u001b[0m\u001b[33m\n",
            "\u001b[0m\u001b[33mWARNING: Ignoring invalid distribution -ransformers (/usr/local/lib/python3.10/dist-packages)\u001b[0m\u001b[33m\n",
            "\u001b[0m"
          ]
        }
      ],
      "source": [
        "!pip install -q accelerate==0.21.0 peft==0.4.0 bitsandbytes==0.40.2 transformers==4.31.0 trl==0.4.7"
      ]
    },
    {
      "cell_type": "code",
      "execution_count": null,
      "metadata": {
        "id": "piNANpQsTDC7"
      },
      "outputs": [],
      "source": [
        "import os\n",
        "import torch\n",
        "from transformers import (\n",
        "    AutoModelForCausalLM,\n",
        "    AutoTokenizer,\n",
        "    BitsAndBytesConfig,\n",
        "    HfArgumentParser,\n",
        "    TrainingArguments,\n",
        "    pipeline,\n",
        "    logging,\n",
        ")\n",
        "from peft import LoraConfig, PeftModel\n",
        "from trl import SFTTrainer"
      ]
    },
    {
      "cell_type": "code",
      "execution_count": null,
      "metadata": {
        "id": "14_6atqXTC8m"
      },
      "outputs": [],
      "source": [
        "# The model that you want to train from the Hugging Face hub\n",
        "base_model = \"NousResearch/llama-2-7b-chat-hf\"\n",
        "tuned_model = \"minhajgc14/fine-tuned-llama\""
      ]
    },
    {
      "cell_type": "code",
      "execution_count": null,
      "metadata": {
        "id": "ZgbsUtCJhXjZ"
      },
      "outputs": [],
      "source": [
        "compute_dtype = getattr(torch, \"float16\")"
      ]
    },
    {
      "cell_type": "code",
      "execution_count": null,
      "metadata": {
        "id": "eylqRcwUhxOP"
      },
      "outputs": [],
      "source": [
        "quant_config = BitsAndBytesConfig(\n",
        "    load_in_4bit=True,\n",
        "    bnb_4bit_quant_type=\"nf4\",\n",
        "    bnb_4bit_compute_dtype=compute_dtype,\n",
        "    bnb_4bit_use_double_quant=False,\n",
        ")"
      ]
    },
    {
      "cell_type": "code",
      "execution_count": null,
      "metadata": {
        "id": "gVBx53qvl7OD"
      },
      "outputs": [],
      "source": [
        "tokenizer = AutoTokenizer.from_pretrained(base_model, trust_remote_code=True)\n",
        "tokenizer.pad_token = tokenizer.eos_token\n",
        "tokenizer.padding_side = \"right\""
      ]
    },
    {
      "cell_type": "code",
      "source": [
        "untuned_model = AutoModelForCausalLM.from_pretrained(\n",
        "    base_model,\n",
        "    quantization_config=quant_config,\n",
        "    device_map={\"\": 0}\n",
        ")\n",
        "fine_tuned_model = PeftModel.from_pretrained(untuned_model, tuned_model)"
      ],
      "metadata": {
        "colab": {
          "base_uri": "https://localhost:8080/",
          "height": 49,
          "referenced_widgets": [
            "72bb9ac089464e94a602d30fcdcb36e6",
            "976dba8267244337ac6324b1d9c8632a",
            "0b9ad94dd6a141b69ed389e981434607",
            "7b4948f65dbb47d1b6e47086f56d27c2",
            "e1e51ec82a7f48cf90fb50c42bf283ba",
            "c2d6f2d8f12641a9a2c6fcfaa506bccc",
            "6e1aa51b3a7a4c22b09f36e140141e51",
            "5dccf596063548deac5b623958c74d16",
            "be0914afd8e14a71859cb0df2335a435",
            "d78872eb74a44c4f8a8df8d1eb81b574",
            "4cede02734b94e3b8be983002e9c2756"
          ]
        },
        "id": "O4E3QQHMTDip",
        "outputId": "abf45671-0361-4a2b-88e2-a8f401fe0f5c"
      },
      "execution_count": null,
      "outputs": [
        {
          "output_type": "display_data",
          "data": {
            "text/plain": [
              "Loading checkpoint shards:   0%|          | 0/2 [00:00<?, ?it/s]"
            ],
            "application/vnd.jupyter.widget-view+json": {
              "version_major": 2,
              "version_minor": 0,
              "model_id": "72bb9ac089464e94a602d30fcdcb36e6"
            }
          },
          "metadata": {}
        }
      ]
    },
    {
      "cell_type": "code",
      "execution_count": null,
      "metadata": {
        "id": "N7Zbi8_RmzKI",
        "colab": {
          "base_uri": "https://localhost:8080/"
        },
        "outputId": "4eb7f882-68b6-4266-8ac5-caa395237fdf"
      },
      "outputs": [
        {
          "output_type": "stream",
          "name": "stdout",
          "text": [
            "Why does the AI Policy restrict some types of information from disclosure? [/INST] The AI Policy restricts certain types of information from disclosure to protect sensitive information, maintain the confidentiality of personal information, and avoid harm to the Bank or its stakeholders. It is essential to maintain the integrity of the Bank's operations and protect the privacy and security of its clients and employees. The AI Policy outlines the types of information that are exempt from disclosure, including personal information, financial information, personal communications, and other sensitive information. It is essential to protect the privacy and security of the Bank's clients and employees and maintain the integrity of its operations. The AI Policy outlines the types of information that are exempt from disclosure, including personal information, financial information, personal communications, and other sensitive information. It is essential to protect the privacy and security of the Bank's clients and employees and maintain the integrity of its operations. The AI Policy outlines the types of information that are exempt from disclosure, including personal information, financial information, personal communications, and other sensitive information. It is essential to protect the privacy and security of the Bank's clients and employees and maintain the integrity of its operations. The AI Policy outlines the types of information that are exempt from disclosure, including personal information, financial information, personal communications, and other sensitive information. It is essential to protect the privacy and security of the Bank's clients and employees and maintain the integrity of its operations. The AI Policy outlines the types of information that are exempt from disclosure, including personal information, financial information, personal communications, and other sensitive information. It is essential to protect the privacy and security of the Bank's clients and employees and maintain the integrity of its operations. The AI Policy outlines the types of information that are exempt from disclosure, including personal information, financial information, personal communications, and other sensitive information. It is essential to protect the privacy and security of the Bank's clients and employees and maintain the integrity of its operations. The AI Policy outlines the types of information that are exempt from disclosure, including personal information, financial information, personal communications, and other sensitive information. It is essential to protect the privacy and security of the Bank's clients and employees and maintain the integrity of its operations. The AI Policy outlines the types of information that are exempt from disclosure, including personal information, financial information, personal communications, and other sensitive information. It is essential to protect the privacy and security of the Bank's clients and employees and maintain the integrity of its operations. The AI Policy outlines the types of information that are exempt from disclosure, including personal information, financial information, personal communications, and other sensitive information. It is essential to protect the privacy and security of the Bank's clients and employees and maintain the integrity of its operations. The AI Policy outlines the types of information that are exempt from disclosure, including personal information, financial information, personal communications, and other sensitive information. It is essential to protect the privacy and security of the Bank's clients and employees and maintain the integrity of its operations. The AI Policy outlines the types of information that are exempt from disclosure, including personal information, financial information, personal communications, and other sensitive information. It is essential to protect the privacy and security of the Bank's clients and employees and maintain the integrity of its operations. The AI Policy outlines the types of information that are exempt from disclosure, including personal information, financial information, personal communications, and other sensitive information. It is essential to protect the privacy and security of the Bank's clients and employees and maintain the integrity of its operations. The AI Policy outlines the types of information that are exempt from disclosure, including personal information, financial information, personal communications, and other sensitive information. It is essential to protect the privacy and security of the Bank's clients and employees and maintain the integrity of its operations. The AI Policy outlines the types of information that are exempt from disclosure, including personal information, financial information, personal communications, and other sensitive information. It is essential to protect the privacy and security of the Bank's clients and employees and maintain the integrity of its operations. The AI Policy outlines the types of information that are exempt from disclosure, including personal information, financial information, personal communications, and other sensitive information. It is essential to protect the privacy and security of the Bank's clients and employees and maintain the integrity of its operations. The AI Policy outlines the types of information that are exempt from disclosure, including personal information, financial information, personal communications, and other sensitive information. It is essential to protect\n"
          ]
        }
      ],
      "source": [
        "logging.set_verbosity(logging.CRITICAL)\n",
        "\n",
        "prompt = \"Why does the AI Policy restrict some types of information from disclosure?\"\n",
        "pipe = pipeline(task=\"text-generation\", model=fine_tuned_model, tokenizer=tokenizer, max_length=200)\n",
        "result = pipe(f\"{prompt}\")\n",
        "print(result[0]['generated_text'])"
      ]
    },
    {
      "cell_type": "markdown",
      "source": [
        "## Benchmarking against our own dataset using BLEU and ROUGE matrices"
      ],
      "metadata": {
        "id": "K2jUlF3UCIgW"
      }
    },
    {
      "cell_type": "code",
      "source": [
        "import random\n",
        "import json\n",
        "from datasets import load_metric\n",
        "import sacrebleu\n",
        "\n",
        "# Load the dataset\n",
        "with open('/content/waseem/questions/questions.json', 'r') as file:\n",
        "    full_data = json.load(file)\n",
        "\n",
        "# Get the total number of rows in the data\n",
        "num_rows = len(full_data)\n",
        "\n",
        "# Generate 20 random indices without replacement\n",
        "random_indices = random.sample(range(num_rows), 20)\n",
        "\n",
        "# Extract the corresponding rows from the data\n",
        "data = [full_data[i] for i in random_indices]\n",
        "\n",
        "# Print the random data\n",
        "print(data)"
      ],
      "metadata": {
        "colab": {
          "base_uri": "https://localhost:8080/"
        },
        "id": "At8D9w2RUYQ1",
        "outputId": "53684f46-7881-4280-f8e8-0ea0cfd1a973"
      },
      "execution_count": null,
      "outputs": [
        {
          "output_type": "stream",
          "name": "stdout",
          "text": [
            "[{'input': ' What approach does the UK propose for AI regulation compared to the EU?', 'output': \" Unlike the EU's rules-based approach, the UK proposes a contextual, sector-based regulatory framework, utilizing existing regulators and laws, supplemented by new 'central functions' to support AI regulation.\"}, {'input': 'What is the affordable connectivity program and is it ending soon?', 'output': 'Affordable Connectivity Program (ACP) was enacted as part of the 2021 Infrastructure Investment and Jobs Act to ensure broadband access. It offers a $30 monthly subsidy to about 23 million homes. Funds are likely to run out in late April or May 2024.'}, {'input': 'What are the twin goals of Singapore\\\\u2019s NAIS 2.0(National AI Strategy)?', 'output': 'One is excellence: Singapore will selectively develop peaks of excellence in AI, to advance the field and maximize value creation. The other is empowerment: Singapore will raise up individuals, businesses, and communities to use AI with confidence, discernment, and trust.'}, {'input': ' What is the purpose of CAN/DGSI 103-1:2023 according to its scope? ', 'output': ' The purpose of CAN/DGSI 103-1:2023 is to specify \\\\\"minimum requirements and a set of controls for digital identity services\\\\\" as per the CIO Strategy Council.'}, {'input': 'How did the G7 leaders contribute to AI governance?', 'output': 'G7 leaders issued international Guiding Principles and a voluntary Code of Conduct for AI developers, focusing on democratic values, human rights, and challenges like climate crisis and global health.'}, {'input': \"How the United States' approach to AI is influencing the future of AI geopolitics?\", 'output': 'Lack of government regulation for private corporations dominating the AI development landscape is a key contributor towards the overall advancement of AI technologies. However, if the US government was to take a more regulatory approach towards AI technology development, we could see significant monopolization of AI resources and talent.'}, {'input': ' What are the differences between Policy Statement 139-06 and Directive 026-11?', 'output': \" The key differences between Policy Statement 139-06 and Directive 026-11 are in their focus and specific mandates. Policy Statement 139-06 provides a foundational framework for DHS's AI use, emphasizing conformity with Executive Order 13960 and legal and constitutional adherence, with a strong stance against discrimination. In contrast, Directive 026-11 specifically addresses the use of face recognition and capture technologies, detailing requirements for testing against bias, periodic evaluations, and offering U.S. citizens the right to opt out of non-law enforcement uses, alongside a comprehensive review process to ensure these technologies meet established standards and respect civil liberties.\"}, {'input': 'What are the main challenges to AI adoption in public sectors?', 'output': \"Key challenges include lack of awareness about AI's potential, inadequate digital infrastructure, poor data quality, and a shortage of digital skills. Additionally, there's an absence of suitable policy and legal frameworks for AI.\"}, {'input': ' What potential benefits could arise from aligning AI regulation internationally? ', 'output': ' By aligning AI regulation, specialized AI firms could thrive globally, competition would be encouraged, markets would be healthier, and there would be more innovation in AI. Moreover, it could lead to reduced barriers to innovation and diffusion, facilitating a larger market for AI solutions and fostering international trade.'}, {'input': 'What are the key areas for collaboration in international AI governance?', 'output': 'The key areas for collaboration include regulatory policies, standard-setting, and joint research and development (R&D) projects. These areas are crucial for reducing regulatory burdens, incentivizing AI development, and increasing global market competition'}, {'input': 'Do AI outputs enjoy copyright protection?', 'output': 'The question of whether AI outputs, such as images or texts, enjoy copyright protection hinges on the concept of “authorship.” While the U.S. Copyright Office recognizes copyright only in works created by humans, recent lawsuits challenge this requirement.'}, {'input': 'How can international collaboration in areas like Data Free Flow with Trust (DFFT) and agile governance contribute to fostering responsible AI development?', 'output': 'Collaborative initiatives like DFFT aim to enhance cross-border data flow while ensuring trust in privacy, security, and intellectual property rights. Similarly, agile governance frameworks promote multi-stakeholder involvement, agile regulatory processes, and effective enforcement mechanisms to address emerging challenges in AI governance.'}, {'input': 'How can the Blueprint be implemented?', 'output': 'The Blueprint is accompanied by a handbook called “From Principles to Practice”, which provides detailed steps for incorporating these protections into policy and practice, ensuring that AI technologies align with our highest values. Practical Steps, Policy Recommendations, Ethical Design, Case Studies, and Stakeholder Engagement.'}, {'input': 'why has cooperation between China and global networks for AI R&D come under scrutiny in recent years?', 'output': \"The reassessment is due to four factors: the growing capabilities of AI and its impacts on economic competitiveness and national security, China's unethical use of AI, the rise in Chinese capabilities and ambitions in AI, and the policies by which the Chinese state bolstered those capabilities\"}, {'input': 'Why does the World Bank restrict access to certain types of information?', 'output': \"The policy includes exceptions to protect sensitive information that could harm individuals, financial stability, or the confidentiality of the Bank's clients and partners.\"}, {'input': 'Other than misuse, what is another challenge of AI?', 'output': 'Missed uses - failing to take advantage of and share the benefits of AI technologies out of an excess of caution.'}, {'input': ' What significant steps did the UK AI Safety Summit plan to take regarding AI research?', 'output': ' The UK AI Safety Summit planned to showcase initial program results, present demonstrations focused on areas of AI risk such as misuse, societal harm, loss of human control, and unpredictable progress, and transition the Frontier AI Taskforce to a more formal AI Safety Institute to develop the infrastructure needed to understand and govern advanced AI risks.'}, {'input': 'What are the penalties for non-compliance with the AI Act?', 'output': 'Fines range from 35 million euros or 7% of global turnover to 7.5 million euros or 1.5% of turnover, depending on the infringement and company size.'}, {'input': 'At the heart of the EU AI act stands its risk categorization system, what belong to the unacceptable risk systems?', 'output': 'Risk systems include those that have a significant potential for manipulation either through subconscious messaging and stimuli, or by exploiting vulnerabilities like socioeconomic status, disability, or age. AI systems for social scoring, a term that describes the evaluation and treatment of people based on their social behavior, are also banned. '}, {'input': 'Can you describe the approach taken by the research team in preparing for the interviews with academia and industry experts in the AI assessment?', 'output': \"The research team prepared generic interview protocols for broad categories of interviewees, which were later reviewed by a member of RAND's SRG to ensure alignment with the study goals. These protocols were then used to derive individual interview protocols tailored for specific experts\"}]\n"
          ]
        }
      ]
    },
    {
      "cell_type": "code",
      "source": [
        "rouge_metric = load_metric(\"rouge\")\n",
        "\n",
        "# Prepare for BLEU calculation\n",
        "predictions = []\n",
        "references = []\n",
        "\n",
        "for item in data:\n",
        "    input_text = item['input']\n",
        "    reference_texts = item['output']\n",
        "\n",
        "    # Generate prediction\n",
        "    inputs = tokenizer(input_text, return_tensors=\"pt\", padding=True, truncation=True, max_length=512)\n",
        "    inputs = inputs.to('cuda')\n",
        "    output_sequences = fine_tuned_model.generate(input_ids=inputs[\"input_ids\"], attention_mask=inputs[\"attention_mask\"], max_length=200)\n",
        "    generated_text = tokenizer.decode(output_sequences[0], skip_special_tokens=True)\n",
        "\n",
        "    predictions.append(generated_text)\n",
        "    references.append(reference_texts)\n",
        "\n",
        "# Compute BLEU score\n",
        "results = sacrebleu.corpus_bleu(predictions, [references])\n",
        "print(f\"BLEU score: {results.score}\")\n",
        "\n",
        "# Prepare references and predictions in the format expected by the metrics\n",
        "flat_references = [item[\"output\"] for item in data] # ROUGE expects a flat list of strings\n",
        "predictions_text = [pred for pred in predictions] # ROUGE\n",
        "\n",
        "\n",
        "# Compute ROUGE score\n",
        "rouge_score = rouge_metric.compute(predictions=predictions_text, references=flat_references)\n",
        "print(f\"ROUGE scores: {rouge_score}\")\n"
      ],
      "metadata": {
        "colab": {
          "base_uri": "https://localhost:8080/"
        },
        "id": "phTU1X2Hpceq",
        "outputId": "f9a2c92a-6997-4977-e8f5-5c76bf071a5f"
      },
      "execution_count": null,
      "outputs": [
        {
          "output_type": "stream",
          "name": "stderr",
          "text": [
            "/usr/local/lib/python3.10/dist-packages/datasets/load.py:753: FutureWarning: The repository for rouge contains custom code which must be executed to correctly load the metric. You can inspect the repository content at https://raw.githubusercontent.com/huggingface/datasets/2.17.1/metrics/rouge/rouge.py\n",
            "You can avoid this message in future by passing the argument `trust_remote_code=True`.\n",
            "Passing `trust_remote_code=True` will be mandatory to load this metric from the next major release of `datasets`.\n",
            "  warnings.warn(\n"
          ]
        },
        {
          "output_type": "stream",
          "name": "stdout",
          "text": [
            "BLEU score: 4.833747231081994\n",
            "ROUGE scores: {'rouge1': AggregateScore(low=Score(precision=0.12337332012472785, recall=0.43093395676728524, fmeasure=0.19125494089834266), mid=Score(precision=0.14955848559112456, recall=0.4974924879673184, fmeasure=0.2225600416493507), high=Score(precision=0.18626236227029347, recall=0.5741263836276083, fmeasure=0.2617330109987263)), 'rouge2': AggregateScore(low=Score(precision=0.034028232483998465, recall=0.12086882236149982, fmeasure=0.05221767511850936), mid=Score(precision=0.05544563860272626, recall=0.19486320745115257, fmeasure=0.08351803277646239), high=Score(precision=0.08259043485382457, recall=0.29589685276869226, fmeasure=0.12469290420190768)), 'rougeL': AggregateScore(low=Score(precision=0.0951641958264639, recall=0.3296459976041544, fmeasure=0.14606955039691877), mid=Score(precision=0.1190762353489545, recall=0.39763221642034613, fmeasure=0.17747240578923124), high=Score(precision=0.15020729780976166, recall=0.48903247390968313, fmeasure=0.2159054676281569)), 'rougeLsum': AggregateScore(low=Score(precision=0.09628333290436006, recall=0.33403299625501076, fmeasure=0.14943644327852457), mid=Score(precision=0.11985447191214925, recall=0.3956587187972588, fmeasure=0.17808519342313306), high=Score(precision=0.15145585153221577, recall=0.4850115224805825, fmeasure=0.21954800547395156))}\n"
          ]
        }
      ]
    },
    {
      "cell_type": "markdown",
      "source": [
        "## Benchmarking against Vanilla Llama 2 Chat HF"
      ],
      "metadata": {
        "id": "pu_ClLNtCSqb"
      }
    },
    {
      "cell_type": "code",
      "source": [
        "rouge_metric = load_metric(\"rouge\")\n",
        "\n",
        "# Prepare for BLEU calculation\n",
        "predictions = []\n",
        "references = []\n",
        "\n",
        "for item in data:\n",
        "    input_text = item['input']\n",
        "    reference_texts = item['output']\n",
        "\n",
        "    # Generate prediction\n",
        "    inputs = tokenizer(input_text, return_tensors=\"pt\", padding=True, truncation=True, max_length=512)\n",
        "    inputs = inputs.to('cuda')\n",
        "    output_sequences = untuned_model.generate(input_ids=inputs[\"input_ids\"], attention_mask=inputs[\"attention_mask\"], max_length=200)\n",
        "    generated_text = tokenizer.decode(output_sequences[0], skip_special_tokens=True)\n",
        "\n",
        "    predictions.append(generated_text)\n",
        "    references.append(reference_texts)\n",
        "\n",
        "# Compute BLEU score\n",
        "results = sacrebleu.corpus_bleu(predictions, [references])\n",
        "print(f\"BLEU score: {results.score}\")\n",
        "\n",
        "# Prepare references and predictions in the format expected by the metrics\n",
        "flat_references = [item[\"output\"] for item in data] # ROUGE expects a flat list of strings\n",
        "predictions_text = [pred for pred in predictions] # ROUGE\n",
        "\n",
        "\n",
        "# Compute ROUGE score\n",
        "rouge_score = rouge_metric.compute(predictions=predictions_text, references=flat_references)\n",
        "print(f\"ROUGE scores: {rouge_score}\")"
      ],
      "metadata": {
        "id": "KFAJxgkdCXc3",
        "colab": {
          "base_uri": "https://localhost:8080/",
          "height": 212,
          "referenced_widgets": [
            "7812e5650ae64153b59a7b229e3ddc8a",
            "7ac742f558b048a1b9befbda24c13fdf",
            "0e93f51249484cf3ae617afc120a9f23",
            "79ab81d5a18d4d44a2ca26fd9864baa4",
            "1839bdd0209442c5bb0486718a32ecce",
            "242e7447699c4473b9e00acedcc109ba",
            "51c094e68a12467ab10cebfc160e87b0",
            "0c3ec04bbe654854b50c1735eb0cb48d",
            "e2d146746ef847c38418d94afba6e825",
            "daeddc79d863461296a3414d3c84f8d6",
            "05b72d9d03b940618a51d1f558ebdb1d"
          ]
        },
        "outputId": "1971d4b3-4b18-43dd-d43c-fc0f9ef23e15"
      },
      "execution_count": null,
      "outputs": [
        {
          "output_type": "display_data",
          "data": {
            "text/plain": [
              "Loading checkpoint shards:   0%|          | 0/2 [00:00<?, ?it/s]"
            ],
            "application/vnd.jupyter.widget-view+json": {
              "version_major": 2,
              "version_minor": 0,
              "model_id": "7812e5650ae64153b59a7b229e3ddc8a"
            }
          },
          "metadata": {}
        },
        {
          "output_type": "stream",
          "name": "stderr",
          "text": [
            "/usr/local/lib/python3.10/dist-packages/datasets/load.py:753: FutureWarning: The repository for rouge contains custom code which must be executed to correctly load the metric. You can inspect the repository content at https://raw.githubusercontent.com/huggingface/datasets/2.17.1/metrics/rouge/rouge.py\n",
            "You can avoid this message in future by passing the argument `trust_remote_code=True`.\n",
            "Passing `trust_remote_code=True` will be mandatory to load this metric from the next major release of `datasets`.\n",
            "  warnings.warn(\n",
            "/usr/local/lib/python3.10/dist-packages/transformers/generation/utils.py:1270: UserWarning: You have modified the pretrained model configuration to control generation. This is a deprecated strategy to control generation and will be removed soon, in a future version. Please use a generation configuration file (see https://huggingface.co/docs/transformers/main_classes/text_generation )\n",
            "  warnings.warn(\n"
          ]
        },
        {
          "output_type": "stream",
          "name": "stdout",
          "text": [
            "BLEU score: 3.4612234912270003\n",
            "ROUGE scores: {'rouge1': AggregateScore(low=Score(precision=0.1366906474820144, recall=0.5135135135135135, fmeasure=0.21590909090909088), mid=Score(precision=0.1366906474820144, recall=0.5135135135135135, fmeasure=0.21590909090909088), high=Score(precision=0.1366906474820144, recall=0.5135135135135135, fmeasure=0.21590909090909088)), 'rouge2': AggregateScore(low=Score(precision=0.057971014492753624, recall=0.2222222222222222, fmeasure=0.09195402298850576), mid=Score(precision=0.057971014492753624, recall=0.2222222222222222, fmeasure=0.09195402298850576), high=Score(precision=0.057971014492753624, recall=0.2222222222222222, fmeasure=0.09195402298850576)), 'rougeL': AggregateScore(low=Score(precision=0.10071942446043165, recall=0.3783783783783784, fmeasure=0.1590909090909091), mid=Score(precision=0.10071942446043165, recall=0.3783783783783784, fmeasure=0.1590909090909091), high=Score(precision=0.10071942446043165, recall=0.3783783783783784, fmeasure=0.1590909090909091)), 'rougeLsum': AggregateScore(low=Score(precision=0.11510791366906475, recall=0.43243243243243246, fmeasure=0.18181818181818185), mid=Score(precision=0.11510791366906475, recall=0.43243243243243246, fmeasure=0.18181818181818185), high=Score(precision=0.11510791366906475, recall=0.43243243243243246, fmeasure=0.18181818181818185))}\n"
          ]
        }
      ]
    },
    {
      "cell_type": "markdown",
      "source": [
        "It is evident that the BLEU score for our fine-tuned model is greater than that of vanilla model."
      ],
      "metadata": {
        "id": "KgIlmtRpW1_z"
      }
    }
  ],
  "metadata": {
    "accelerator": "GPU",
    "colab": {
      "gpuType": "T4",
      "provenance": []
    },
    "kernelspec": {
      "display_name": "Python 3",
      "name": "python3"
    },
    "language_info": {
      "name": "python"
    },
    "widgets": {
      "application/vnd.jupyter.widget-state+json": {
        "7812e5650ae64153b59a7b229e3ddc8a": {
          "model_module": "@jupyter-widgets/controls",
          "model_name": "HBoxModel",
          "model_module_version": "1.5.0",
          "state": {
            "_dom_classes": [],
            "_model_module": "@jupyter-widgets/controls",
            "_model_module_version": "1.5.0",
            "_model_name": "HBoxModel",
            "_view_count": null,
            "_view_module": "@jupyter-widgets/controls",
            "_view_module_version": "1.5.0",
            "_view_name": "HBoxView",
            "box_style": "",
            "children": [
              "IPY_MODEL_7ac742f558b048a1b9befbda24c13fdf",
              "IPY_MODEL_0e93f51249484cf3ae617afc120a9f23",
              "IPY_MODEL_79ab81d5a18d4d44a2ca26fd9864baa4"
            ],
            "layout": "IPY_MODEL_1839bdd0209442c5bb0486718a32ecce"
          }
        },
        "7ac742f558b048a1b9befbda24c13fdf": {
          "model_module": "@jupyter-widgets/controls",
          "model_name": "HTMLModel",
          "model_module_version": "1.5.0",
          "state": {
            "_dom_classes": [],
            "_model_module": "@jupyter-widgets/controls",
            "_model_module_version": "1.5.0",
            "_model_name": "HTMLModel",
            "_view_count": null,
            "_view_module": "@jupyter-widgets/controls",
            "_view_module_version": "1.5.0",
            "_view_name": "HTMLView",
            "description": "",
            "description_tooltip": null,
            "layout": "IPY_MODEL_242e7447699c4473b9e00acedcc109ba",
            "placeholder": "​",
            "style": "IPY_MODEL_51c094e68a12467ab10cebfc160e87b0",
            "value": "Loading checkpoint shards: 100%"
          }
        },
        "0e93f51249484cf3ae617afc120a9f23": {
          "model_module": "@jupyter-widgets/controls",
          "model_name": "FloatProgressModel",
          "model_module_version": "1.5.0",
          "state": {
            "_dom_classes": [],
            "_model_module": "@jupyter-widgets/controls",
            "_model_module_version": "1.5.0",
            "_model_name": "FloatProgressModel",
            "_view_count": null,
            "_view_module": "@jupyter-widgets/controls",
            "_view_module_version": "1.5.0",
            "_view_name": "ProgressView",
            "bar_style": "success",
            "description": "",
            "description_tooltip": null,
            "layout": "IPY_MODEL_0c3ec04bbe654854b50c1735eb0cb48d",
            "max": 2,
            "min": 0,
            "orientation": "horizontal",
            "style": "IPY_MODEL_e2d146746ef847c38418d94afba6e825",
            "value": 2
          }
        },
        "79ab81d5a18d4d44a2ca26fd9864baa4": {
          "model_module": "@jupyter-widgets/controls",
          "model_name": "HTMLModel",
          "model_module_version": "1.5.0",
          "state": {
            "_dom_classes": [],
            "_model_module": "@jupyter-widgets/controls",
            "_model_module_version": "1.5.0",
            "_model_name": "HTMLModel",
            "_view_count": null,
            "_view_module": "@jupyter-widgets/controls",
            "_view_module_version": "1.5.0",
            "_view_name": "HTMLView",
            "description": "",
            "description_tooltip": null,
            "layout": "IPY_MODEL_daeddc79d863461296a3414d3c84f8d6",
            "placeholder": "​",
            "style": "IPY_MODEL_05b72d9d03b940618a51d1f558ebdb1d",
            "value": " 2/2 [00:05&lt;00:00,  2.49s/it]"
          }
        },
        "1839bdd0209442c5bb0486718a32ecce": {
          "model_module": "@jupyter-widgets/base",
          "model_name": "LayoutModel",
          "model_module_version": "1.2.0",
          "state": {
            "_model_module": "@jupyter-widgets/base",
            "_model_module_version": "1.2.0",
            "_model_name": "LayoutModel",
            "_view_count": null,
            "_view_module": "@jupyter-widgets/base",
            "_view_module_version": "1.2.0",
            "_view_name": "LayoutView",
            "align_content": null,
            "align_items": null,
            "align_self": null,
            "border": null,
            "bottom": null,
            "display": null,
            "flex": null,
            "flex_flow": null,
            "grid_area": null,
            "grid_auto_columns": null,
            "grid_auto_flow": null,
            "grid_auto_rows": null,
            "grid_column": null,
            "grid_gap": null,
            "grid_row": null,
            "grid_template_areas": null,
            "grid_template_columns": null,
            "grid_template_rows": null,
            "height": null,
            "justify_content": null,
            "justify_items": null,
            "left": null,
            "margin": null,
            "max_height": null,
            "max_width": null,
            "min_height": null,
            "min_width": null,
            "object_fit": null,
            "object_position": null,
            "order": null,
            "overflow": null,
            "overflow_x": null,
            "overflow_y": null,
            "padding": null,
            "right": null,
            "top": null,
            "visibility": null,
            "width": null
          }
        },
        "242e7447699c4473b9e00acedcc109ba": {
          "model_module": "@jupyter-widgets/base",
          "model_name": "LayoutModel",
          "model_module_version": "1.2.0",
          "state": {
            "_model_module": "@jupyter-widgets/base",
            "_model_module_version": "1.2.0",
            "_model_name": "LayoutModel",
            "_view_count": null,
            "_view_module": "@jupyter-widgets/base",
            "_view_module_version": "1.2.0",
            "_view_name": "LayoutView",
            "align_content": null,
            "align_items": null,
            "align_self": null,
            "border": null,
            "bottom": null,
            "display": null,
            "flex": null,
            "flex_flow": null,
            "grid_area": null,
            "grid_auto_columns": null,
            "grid_auto_flow": null,
            "grid_auto_rows": null,
            "grid_column": null,
            "grid_gap": null,
            "grid_row": null,
            "grid_template_areas": null,
            "grid_template_columns": null,
            "grid_template_rows": null,
            "height": null,
            "justify_content": null,
            "justify_items": null,
            "left": null,
            "margin": null,
            "max_height": null,
            "max_width": null,
            "min_height": null,
            "min_width": null,
            "object_fit": null,
            "object_position": null,
            "order": null,
            "overflow": null,
            "overflow_x": null,
            "overflow_y": null,
            "padding": null,
            "right": null,
            "top": null,
            "visibility": null,
            "width": null
          }
        },
        "51c094e68a12467ab10cebfc160e87b0": {
          "model_module": "@jupyter-widgets/controls",
          "model_name": "DescriptionStyleModel",
          "model_module_version": "1.5.0",
          "state": {
            "_model_module": "@jupyter-widgets/controls",
            "_model_module_version": "1.5.0",
            "_model_name": "DescriptionStyleModel",
            "_view_count": null,
            "_view_module": "@jupyter-widgets/base",
            "_view_module_version": "1.2.0",
            "_view_name": "StyleView",
            "description_width": ""
          }
        },
        "0c3ec04bbe654854b50c1735eb0cb48d": {
          "model_module": "@jupyter-widgets/base",
          "model_name": "LayoutModel",
          "model_module_version": "1.2.0",
          "state": {
            "_model_module": "@jupyter-widgets/base",
            "_model_module_version": "1.2.0",
            "_model_name": "LayoutModel",
            "_view_count": null,
            "_view_module": "@jupyter-widgets/base",
            "_view_module_version": "1.2.0",
            "_view_name": "LayoutView",
            "align_content": null,
            "align_items": null,
            "align_self": null,
            "border": null,
            "bottom": null,
            "display": null,
            "flex": null,
            "flex_flow": null,
            "grid_area": null,
            "grid_auto_columns": null,
            "grid_auto_flow": null,
            "grid_auto_rows": null,
            "grid_column": null,
            "grid_gap": null,
            "grid_row": null,
            "grid_template_areas": null,
            "grid_template_columns": null,
            "grid_template_rows": null,
            "height": null,
            "justify_content": null,
            "justify_items": null,
            "left": null,
            "margin": null,
            "max_height": null,
            "max_width": null,
            "min_height": null,
            "min_width": null,
            "object_fit": null,
            "object_position": null,
            "order": null,
            "overflow": null,
            "overflow_x": null,
            "overflow_y": null,
            "padding": null,
            "right": null,
            "top": null,
            "visibility": null,
            "width": null
          }
        },
        "e2d146746ef847c38418d94afba6e825": {
          "model_module": "@jupyter-widgets/controls",
          "model_name": "ProgressStyleModel",
          "model_module_version": "1.5.0",
          "state": {
            "_model_module": "@jupyter-widgets/controls",
            "_model_module_version": "1.5.0",
            "_model_name": "ProgressStyleModel",
            "_view_count": null,
            "_view_module": "@jupyter-widgets/base",
            "_view_module_version": "1.2.0",
            "_view_name": "StyleView",
            "bar_color": null,
            "description_width": ""
          }
        },
        "daeddc79d863461296a3414d3c84f8d6": {
          "model_module": "@jupyter-widgets/base",
          "model_name": "LayoutModel",
          "model_module_version": "1.2.0",
          "state": {
            "_model_module": "@jupyter-widgets/base",
            "_model_module_version": "1.2.0",
            "_model_name": "LayoutModel",
            "_view_count": null,
            "_view_module": "@jupyter-widgets/base",
            "_view_module_version": "1.2.0",
            "_view_name": "LayoutView",
            "align_content": null,
            "align_items": null,
            "align_self": null,
            "border": null,
            "bottom": null,
            "display": null,
            "flex": null,
            "flex_flow": null,
            "grid_area": null,
            "grid_auto_columns": null,
            "grid_auto_flow": null,
            "grid_auto_rows": null,
            "grid_column": null,
            "grid_gap": null,
            "grid_row": null,
            "grid_template_areas": null,
            "grid_template_columns": null,
            "grid_template_rows": null,
            "height": null,
            "justify_content": null,
            "justify_items": null,
            "left": null,
            "margin": null,
            "max_height": null,
            "max_width": null,
            "min_height": null,
            "min_width": null,
            "object_fit": null,
            "object_position": null,
            "order": null,
            "overflow": null,
            "overflow_x": null,
            "overflow_y": null,
            "padding": null,
            "right": null,
            "top": null,
            "visibility": null,
            "width": null
          }
        },
        "05b72d9d03b940618a51d1f558ebdb1d": {
          "model_module": "@jupyter-widgets/controls",
          "model_name": "DescriptionStyleModel",
          "model_module_version": "1.5.0",
          "state": {
            "_model_module": "@jupyter-widgets/controls",
            "_model_module_version": "1.5.0",
            "_model_name": "DescriptionStyleModel",
            "_view_count": null,
            "_view_module": "@jupyter-widgets/base",
            "_view_module_version": "1.2.0",
            "_view_name": "StyleView",
            "description_width": ""
          }
        },
        "72bb9ac089464e94a602d30fcdcb36e6": {
          "model_module": "@jupyter-widgets/controls",
          "model_name": "HBoxModel",
          "model_module_version": "1.5.0",
          "state": {
            "_dom_classes": [],
            "_model_module": "@jupyter-widgets/controls",
            "_model_module_version": "1.5.0",
            "_model_name": "HBoxModel",
            "_view_count": null,
            "_view_module": "@jupyter-widgets/controls",
            "_view_module_version": "1.5.0",
            "_view_name": "HBoxView",
            "box_style": "",
            "children": [
              "IPY_MODEL_976dba8267244337ac6324b1d9c8632a",
              "IPY_MODEL_0b9ad94dd6a141b69ed389e981434607",
              "IPY_MODEL_7b4948f65dbb47d1b6e47086f56d27c2"
            ],
            "layout": "IPY_MODEL_e1e51ec82a7f48cf90fb50c42bf283ba"
          }
        },
        "976dba8267244337ac6324b1d9c8632a": {
          "model_module": "@jupyter-widgets/controls",
          "model_name": "HTMLModel",
          "model_module_version": "1.5.0",
          "state": {
            "_dom_classes": [],
            "_model_module": "@jupyter-widgets/controls",
            "_model_module_version": "1.5.0",
            "_model_name": "HTMLModel",
            "_view_count": null,
            "_view_module": "@jupyter-widgets/controls",
            "_view_module_version": "1.5.0",
            "_view_name": "HTMLView",
            "description": "",
            "description_tooltip": null,
            "layout": "IPY_MODEL_c2d6f2d8f12641a9a2c6fcfaa506bccc",
            "placeholder": "​",
            "style": "IPY_MODEL_6e1aa51b3a7a4c22b09f36e140141e51",
            "value": "Loading checkpoint shards: 100%"
          }
        },
        "0b9ad94dd6a141b69ed389e981434607": {
          "model_module": "@jupyter-widgets/controls",
          "model_name": "FloatProgressModel",
          "model_module_version": "1.5.0",
          "state": {
            "_dom_classes": [],
            "_model_module": "@jupyter-widgets/controls",
            "_model_module_version": "1.5.0",
            "_model_name": "FloatProgressModel",
            "_view_count": null,
            "_view_module": "@jupyter-widgets/controls",
            "_view_module_version": "1.5.0",
            "_view_name": "ProgressView",
            "bar_style": "success",
            "description": "",
            "description_tooltip": null,
            "layout": "IPY_MODEL_5dccf596063548deac5b623958c74d16",
            "max": 2,
            "min": 0,
            "orientation": "horizontal",
            "style": "IPY_MODEL_be0914afd8e14a71859cb0df2335a435",
            "value": 2
          }
        },
        "7b4948f65dbb47d1b6e47086f56d27c2": {
          "model_module": "@jupyter-widgets/controls",
          "model_name": "HTMLModel",
          "model_module_version": "1.5.0",
          "state": {
            "_dom_classes": [],
            "_model_module": "@jupyter-widgets/controls",
            "_model_module_version": "1.5.0",
            "_model_name": "HTMLModel",
            "_view_count": null,
            "_view_module": "@jupyter-widgets/controls",
            "_view_module_version": "1.5.0",
            "_view_name": "HTMLView",
            "description": "",
            "description_tooltip": null,
            "layout": "IPY_MODEL_d78872eb74a44c4f8a8df8d1eb81b574",
            "placeholder": "​",
            "style": "IPY_MODEL_4cede02734b94e3b8be983002e9c2756",
            "value": " 2/2 [00:06&lt;00:00,  2.97s/it]"
          }
        },
        "e1e51ec82a7f48cf90fb50c42bf283ba": {
          "model_module": "@jupyter-widgets/base",
          "model_name": "LayoutModel",
          "model_module_version": "1.2.0",
          "state": {
            "_model_module": "@jupyter-widgets/base",
            "_model_module_version": "1.2.0",
            "_model_name": "LayoutModel",
            "_view_count": null,
            "_view_module": "@jupyter-widgets/base",
            "_view_module_version": "1.2.0",
            "_view_name": "LayoutView",
            "align_content": null,
            "align_items": null,
            "align_self": null,
            "border": null,
            "bottom": null,
            "display": null,
            "flex": null,
            "flex_flow": null,
            "grid_area": null,
            "grid_auto_columns": null,
            "grid_auto_flow": null,
            "grid_auto_rows": null,
            "grid_column": null,
            "grid_gap": null,
            "grid_row": null,
            "grid_template_areas": null,
            "grid_template_columns": null,
            "grid_template_rows": null,
            "height": null,
            "justify_content": null,
            "justify_items": null,
            "left": null,
            "margin": null,
            "max_height": null,
            "max_width": null,
            "min_height": null,
            "min_width": null,
            "object_fit": null,
            "object_position": null,
            "order": null,
            "overflow": null,
            "overflow_x": null,
            "overflow_y": null,
            "padding": null,
            "right": null,
            "top": null,
            "visibility": null,
            "width": null
          }
        },
        "c2d6f2d8f12641a9a2c6fcfaa506bccc": {
          "model_module": "@jupyter-widgets/base",
          "model_name": "LayoutModel",
          "model_module_version": "1.2.0",
          "state": {
            "_model_module": "@jupyter-widgets/base",
            "_model_module_version": "1.2.0",
            "_model_name": "LayoutModel",
            "_view_count": null,
            "_view_module": "@jupyter-widgets/base",
            "_view_module_version": "1.2.0",
            "_view_name": "LayoutView",
            "align_content": null,
            "align_items": null,
            "align_self": null,
            "border": null,
            "bottom": null,
            "display": null,
            "flex": null,
            "flex_flow": null,
            "grid_area": null,
            "grid_auto_columns": null,
            "grid_auto_flow": null,
            "grid_auto_rows": null,
            "grid_column": null,
            "grid_gap": null,
            "grid_row": null,
            "grid_template_areas": null,
            "grid_template_columns": null,
            "grid_template_rows": null,
            "height": null,
            "justify_content": null,
            "justify_items": null,
            "left": null,
            "margin": null,
            "max_height": null,
            "max_width": null,
            "min_height": null,
            "min_width": null,
            "object_fit": null,
            "object_position": null,
            "order": null,
            "overflow": null,
            "overflow_x": null,
            "overflow_y": null,
            "padding": null,
            "right": null,
            "top": null,
            "visibility": null,
            "width": null
          }
        },
        "6e1aa51b3a7a4c22b09f36e140141e51": {
          "model_module": "@jupyter-widgets/controls",
          "model_name": "DescriptionStyleModel",
          "model_module_version": "1.5.0",
          "state": {
            "_model_module": "@jupyter-widgets/controls",
            "_model_module_version": "1.5.0",
            "_model_name": "DescriptionStyleModel",
            "_view_count": null,
            "_view_module": "@jupyter-widgets/base",
            "_view_module_version": "1.2.0",
            "_view_name": "StyleView",
            "description_width": ""
          }
        },
        "5dccf596063548deac5b623958c74d16": {
          "model_module": "@jupyter-widgets/base",
          "model_name": "LayoutModel",
          "model_module_version": "1.2.0",
          "state": {
            "_model_module": "@jupyter-widgets/base",
            "_model_module_version": "1.2.0",
            "_model_name": "LayoutModel",
            "_view_count": null,
            "_view_module": "@jupyter-widgets/base",
            "_view_module_version": "1.2.0",
            "_view_name": "LayoutView",
            "align_content": null,
            "align_items": null,
            "align_self": null,
            "border": null,
            "bottom": null,
            "display": null,
            "flex": null,
            "flex_flow": null,
            "grid_area": null,
            "grid_auto_columns": null,
            "grid_auto_flow": null,
            "grid_auto_rows": null,
            "grid_column": null,
            "grid_gap": null,
            "grid_row": null,
            "grid_template_areas": null,
            "grid_template_columns": null,
            "grid_template_rows": null,
            "height": null,
            "justify_content": null,
            "justify_items": null,
            "left": null,
            "margin": null,
            "max_height": null,
            "max_width": null,
            "min_height": null,
            "min_width": null,
            "object_fit": null,
            "object_position": null,
            "order": null,
            "overflow": null,
            "overflow_x": null,
            "overflow_y": null,
            "padding": null,
            "right": null,
            "top": null,
            "visibility": null,
            "width": null
          }
        },
        "be0914afd8e14a71859cb0df2335a435": {
          "model_module": "@jupyter-widgets/controls",
          "model_name": "ProgressStyleModel",
          "model_module_version": "1.5.0",
          "state": {
            "_model_module": "@jupyter-widgets/controls",
            "_model_module_version": "1.5.0",
            "_model_name": "ProgressStyleModel",
            "_view_count": null,
            "_view_module": "@jupyter-widgets/base",
            "_view_module_version": "1.2.0",
            "_view_name": "StyleView",
            "bar_color": null,
            "description_width": ""
          }
        },
        "d78872eb74a44c4f8a8df8d1eb81b574": {
          "model_module": "@jupyter-widgets/base",
          "model_name": "LayoutModel",
          "model_module_version": "1.2.0",
          "state": {
            "_model_module": "@jupyter-widgets/base",
            "_model_module_version": "1.2.0",
            "_model_name": "LayoutModel",
            "_view_count": null,
            "_view_module": "@jupyter-widgets/base",
            "_view_module_version": "1.2.0",
            "_view_name": "LayoutView",
            "align_content": null,
            "align_items": null,
            "align_self": null,
            "border": null,
            "bottom": null,
            "display": null,
            "flex": null,
            "flex_flow": null,
            "grid_area": null,
            "grid_auto_columns": null,
            "grid_auto_flow": null,
            "grid_auto_rows": null,
            "grid_column": null,
            "grid_gap": null,
            "grid_row": null,
            "grid_template_areas": null,
            "grid_template_columns": null,
            "grid_template_rows": null,
            "height": null,
            "justify_content": null,
            "justify_items": null,
            "left": null,
            "margin": null,
            "max_height": null,
            "max_width": null,
            "min_height": null,
            "min_width": null,
            "object_fit": null,
            "object_position": null,
            "order": null,
            "overflow": null,
            "overflow_x": null,
            "overflow_y": null,
            "padding": null,
            "right": null,
            "top": null,
            "visibility": null,
            "width": null
          }
        },
        "4cede02734b94e3b8be983002e9c2756": {
          "model_module": "@jupyter-widgets/controls",
          "model_name": "DescriptionStyleModel",
          "model_module_version": "1.5.0",
          "state": {
            "_model_module": "@jupyter-widgets/controls",
            "_model_module_version": "1.5.0",
            "_model_name": "DescriptionStyleModel",
            "_view_count": null,
            "_view_module": "@jupyter-widgets/base",
            "_view_module_version": "1.2.0",
            "_view_name": "StyleView",
            "description_width": ""
          }
        }
      }
    }
  },
  "nbformat": 4,
  "nbformat_minor": 0
}